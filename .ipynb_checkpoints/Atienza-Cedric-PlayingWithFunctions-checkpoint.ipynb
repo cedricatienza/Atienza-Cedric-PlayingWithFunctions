{
 "cells": [
  {
   "cell_type": "markdown",
   "metadata": {},
   "source": [
    "190399,\n",
    "Atienza,\n",
    "2 BS ITE"
   ]
  },
  {
   "cell_type": "markdown",
   "metadata": {},
   "source": [
    "--------"
   ]
  },
  {
   "cell_type": "markdown",
   "metadata": {},
   "source": [
    "Write a function that takes the circumference of a circle as a parameter and returns the area of that circle."
   ]
  },
  {
   "cell_type": "code",
   "execution_count": 7,
   "metadata": {},
   "outputs": [
    {
     "name": "stdin",
     "output_type": "stream",
     "text": [
      "Enter circumference of the circle: 8\n"
     ]
    },
    {
     "name": "stdout",
     "output_type": "stream",
     "text": [
      "Area is 5.092946269416858\n"
     ]
    }
   ],
   "source": [
    "c = int(input(\"Enter circumference of the circle:\"))\n",
    "\n",
    "def circ_to_area(c) :\n",
    "    return (3.1416*((c/(2*3.1416))*(c/(2*3.1416))))\n",
    "\n",
    "print(\"Area is\", circ_to_area(c))"
   ]
  },
  {
   "cell_type": "markdown",
   "metadata": {},
   "source": [
    "-----------"
   ]
  },
  {
   "cell_type": "markdown",
   "metadata": {},
   "source": [
    "Write a function that takes a 5-character string as a parameter and returns the string in reverse order."
   ]
  },
  {
   "cell_type": "code",
   "execution_count": 16,
   "metadata": {},
   "outputs": [
    {
     "name": "stdin",
     "output_type": "stream",
     "text": [
      " hello\n"
     ]
    },
    {
     "name": "stdout",
     "output_type": "stream",
     "text": [
      "olleh\n"
     ]
    }
   ],
   "source": [
    "text = input()\n",
    "\n",
    "def reverseString(text) :\n",
    "    return text [::-1]\n",
    "\n",
    "print(reverseString(text))"
   ]
  },
  {
   "cell_type": "markdown",
   "metadata": {},
   "source": [
    "-----------"
   ]
  },
  {
   "cell_type": "markdown",
   "metadata": {},
   "source": [
    "Write a function that takes a positive integer as input and returns the sum of all positive integers smaller than and including the number itself."
   ]
  },
  {
   "cell_type": "code",
   "execution_count": 22,
   "metadata": {},
   "outputs": [
    {
     "name": "stdin",
     "output_type": "stream",
     "text": [
      " 5\n"
     ]
    },
    {
     "name": "stdout",
     "output_type": "stream",
     "text": [
      "15\n"
     ]
    }
   ],
   "source": [
    "num = int(input())\n",
    "\n",
    "def backAddition(num) :\n",
    "    i = 0\n",
    "    total = 0\n",
    "    while i <= num :\n",
    "        total += i\n",
    "        i+=1\n",
    "    \n",
    "    return total\n",
    "    \n",
    "print(backAddition(num))"
   ]
  },
  {
   "cell_type": "markdown",
   "metadata": {},
   "source": [
    "-----------"
   ]
  },
  {
   "cell_type": "markdown",
   "metadata": {},
   "source": [
    "Find the difference between the sum of the squares of the first one hundred natural numbers and the square of the sum."
   ]
  },
  {
   "cell_type": "code",
   "execution_count": 48,
   "metadata": {},
   "outputs": [
    {
     "name": "stdout",
     "output_type": "stream",
     "text": [
      "338350\n"
     ]
    }
   ],
   "source": [
    "    num = 100\n",
    "    i = 0\n",
    "    sumSquares = 0\n",
    "    while i <= num :\n",
    "        sumSquares += i*i\n",
    "        i+=1\n",
    "        \n",
    "    print(sumSquares)"
   ]
  },
  {
   "cell_type": "code",
   "execution_count": 47,
   "metadata": {},
   "outputs": [
    {
     "name": "stdout",
     "output_type": "stream",
     "text": [
      "25502500\n"
     ]
    }
   ],
   "source": [
    "    num = 100\n",
    "    i = 0\n",
    "    total = 0\n",
    "    while i <= num :\n",
    "        total += i\n",
    "        i+=1\n",
    "        \n",
    "    sqrTotal = total*total\n",
    "    \n",
    "    print(sqrTotal)"
   ]
  },
  {
   "cell_type": "code",
   "execution_count": 68,
   "metadata": {},
   "outputs": [
    {
     "name": "stdout",
     "output_type": "stream",
     "text": [
      "25164150\n"
     ]
    }
   ],
   "source": [
    "num = 100\n",
    "\n",
    "def sum_of_squares(num) :\n",
    "    i = 0\n",
    "    sumSquares = 0\n",
    "    while i <= num :\n",
    "        sumSquares += i*i\n",
    "        i+=1\n",
    "\n",
    "    j = 0\n",
    "    total = 0\n",
    "    while j <= num :\n",
    "        total += j\n",
    "        j+=1\n",
    "        \n",
    "    sqrTotal = total*total\n",
    "        \n",
    "    diff = sqrTotal - sumSquares\n",
    "    \n",
    "    return diff\n",
    "\n",
    "print(sum_of_squares(num))"
   ]
  },
  {
   "cell_type": "markdown",
   "metadata": {},
   "source": [
    "--------------"
   ]
  },
  {
   "cell_type": "markdown",
   "metadata": {},
   "source": [
    "Write a function that allows a self-service Point of Sale system to give you the exact change when you pay in cash."
   ]
  },
  {
   "cell_type": "code",
   "execution_count": 65,
   "metadata": {},
   "outputs": [
    {
     "name": "stdin",
     "output_type": "stream",
     "text": [
      " 69\n"
     ]
    },
    {
     "name": "stdout",
     "output_type": "stream",
     "text": [
      "0\n",
      "2\n",
      "1\n",
      "1\n",
      "4\n"
     ]
    }
   ],
   "source": [
    "total = int(input())\n",
    "\n",
    "\n",
    "def pos(total) :\n",
    "    peso = 0\n",
    "    quarter = 0\n",
    "    tens = 0\n",
    "    fives = 0\n",
    "    ones = 0\n",
    "    \n",
    "    while total !=0 :\n",
    "        if (total >= 100) :\n",
    "            peso += total//100\n",
    "            total = total%100\n",
    "\n",
    "        elif (total >= 25) :\n",
    "            quarter += total//25\n",
    "            total = total%25\n",
    "        \n",
    "        elif (total >= 10) :\n",
    "            tens += total//10\n",
    "            total = total%10\n",
    "        \n",
    "        elif (total >= 5) :\n",
    "            fives += total//5\n",
    "            total = total%5\n",
    "        \n",
    "        elif (total >= 1) :\n",
    "            ones = total//1\n",
    "            total = total%1\n",
    "        \n",
    "    return peso, quarter, tens, fives, ones\n",
    "\n",
    "for x in pos(total) :\n",
    "    print(x)"
   ]
  }
 ],
 "metadata": {
  "kernelspec": {
   "display_name": "Python 3",
   "language": "python",
   "name": "python3"
  },
  "language_info": {
   "codemirror_mode": {
    "name": "ipython",
    "version": 3
   },
   "file_extension": ".py",
   "mimetype": "text/x-python",
   "name": "python",
   "nbconvert_exporter": "python",
   "pygments_lexer": "ipython3",
   "version": "3.8.3"
  }
 },
 "nbformat": 4,
 "nbformat_minor": 4
}
